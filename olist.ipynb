{
 "cells": [
  {
   "cell_type": "markdown",
   "metadata": {},
   "source": [
    "References:\n",
    "\n",
    "https://ladvien.com/data-analytics-mysql-localhost-setup/\n",
    "\n",
    "https://python.plainenglish.io/how-to-import-a-csv-file-into-a-mysql-database-using-python-script-791b051c5c33\n",
    "\n",
    "https://www.w3schools.com/python/python_mysql_getstarted.asp"
   ]
  },
  {
   "cell_type": "code",
   "execution_count": 2,
   "metadata": {},
   "outputs": [],
   "source": [
    "import pandas as pd\n",
    "import mysql.connector as msql"
   ]
  },
  {
   "cell_type": "code",
   "execution_count": 3,
   "metadata": {},
   "outputs": [],
   "source": [
    "customers = pd.read_csv('olist_customers_dataset.csv', index_col=False)\n",
    "geolocation = pd.read_csv('olist_geolocation_dataset.csv', index_col=False)\n",
    "orders = pd.read_csv('olist_orders_dataset.csv', index_col=False)\n",
    "order_items = pd.read_csv('olist_order_items_dataset.csv', index_col=False)\n",
    "order_payments = pd.read_csv('olist_order_payments_dataset.csv', index_col=False)\n",
    "order_reviews = pd.read_csv('olist_order_reviews_dataset.csv', index_col=False)\n",
    "products = pd.read_csv('olist_products_dataset.csv', index_col=False)\n",
    "sellers = pd.read_csv('olist_sellers_dataset.csv', index_col=False)\n",
    "category_name_translation = pd.read_csv('product_category_name_translation.csv', index_col=False)"
   ]
  },
  {
   "cell_type": "code",
   "execution_count": 6,
   "metadata": {},
   "outputs": [
    {
     "ename": "AttributeError",
     "evalue": "module 'mysql.connector' has no attribute 'connect'",
     "output_type": "error",
     "traceback": [
      "\u001b[1;31m---------------------------------------------------------------------------\u001b[0m",
      "\u001b[1;31mAttributeError\u001b[0m                            Traceback (most recent call last)",
      "\u001b[1;32m<ipython-input-6-45408cb7419c>\u001b[0m in \u001b[0;36m<module>\u001b[1;34m\u001b[0m\n\u001b[0;32m      1\u001b[0m \u001b[1;31m# Connect to the MySQL and create a database\u001b[0m\u001b[1;33m\u001b[0m\u001b[1;33m\u001b[0m\u001b[1;33m\u001b[0m\u001b[0m\n\u001b[1;32m----> 2\u001b[1;33m conn = msql.connect(host='localhost', user='root',  \n\u001b[0m\u001b[0;32m      3\u001b[0m                     password='MySQL@123')\n\u001b[0;32m      4\u001b[0m \u001b[1;32mif\u001b[0m \u001b[0mconn\u001b[0m\u001b[1;33m.\u001b[0m\u001b[0mis_connected\u001b[0m\u001b[1;33m(\u001b[0m\u001b[1;33m)\u001b[0m\u001b[1;33m:\u001b[0m\u001b[1;33m\u001b[0m\u001b[1;33m\u001b[0m\u001b[0m\n\u001b[0;32m      5\u001b[0m     \u001b[0mcursor\u001b[0m \u001b[1;33m=\u001b[0m \u001b[0mconn\u001b[0m\u001b[1;33m.\u001b[0m\u001b[0mcursor\u001b[0m\u001b[1;33m(\u001b[0m\u001b[1;33m)\u001b[0m\u001b[1;33m\u001b[0m\u001b[1;33m\u001b[0m\u001b[0m\n",
      "\u001b[1;31mAttributeError\u001b[0m: module 'mysql.connector' has no attribute 'connect'"
     ]
    }
   ],
   "source": [
    "# Connect to the MySQL and create a database\n",
    "conn = msql.connect(host='localhost', user='root',  \n",
    "                    password='MySQL@123')\n",
    "if conn.is_connected():\n",
    "    cursor = conn.cursor()\n",
    "    cursor.execute(\"CREATE DATABASE olistDB\")\n",
    "    print(\"olistDB database is created\")"
   ]
  },
  {
   "cell_type": "code",
   "execution_count": null,
   "metadata": {},
   "outputs": [],
   "source": [
    "# Inserting Pandas DataFrames Into Databases Using INSERT\n",
    "try:\n",
    "    conn = msql.connect(host='localhost', \n",
    "                           database='olistDB', user='root', \n",
    "                           password='MySQL@123')\n",
    "    \n",
    "    if conn.is_connected():\n",
    "        cursor = conn.cursor()\n",
    "        cursor.execute(\"select database();\")\n",
    "        record = cursor.fetchone()\n",
    "        print(\"You're connected to database: \", record)\n",
    "        cursor.execute('DROP TABLE IF EXISTS customers;')\n",
    "        print('Creating table....')\n",
    "        cursor.execute(\"CREATE TABLE olist\n",
    "                       (sepal_length FLOAT(2,1) NOT NULL, \n",
    "                        sepal_width FLOAT(2,1) NOT NULL,\n",
    "                        petal_length FLOAT(2,1) NOT NULL, \n",
    "                        petal_width FLOAT(2,1) NOT NULL,\n",
    "                        species CHAR(11) NOT NULL)\")\n",
    "        print(\"olist table is created....\")\n",
    "        \n",
    "        for i,row in olist.iterrows():\n",
    "            sql = \"INSERT INTO olistDB.customers VALUES (%s,%s,%s,%s,%s)\"\n",
    "            cursor.execute(sql, tuple(row))\n",
    "            print(\"Record inserted\")\n",
    "            # the connection is not autocommitted by default, so we must commit to save our changes\n",
    "            conn.commit()\n",
    "            \n",
    "except Error as e:\n",
    "    print(\"Error while connecting to MySQL\", e)"
   ]
  },
  {
   "cell_type": "code",
   "execution_count": null,
   "metadata": {},
   "outputs": [],
   "source": [
    "for df in [customers, geolocation, orders, order_items, order_payments,\n",
    "           order_reviews, products, sellers, category_name_translation]:\n",
    "    df.info()\n",
    "    print('\\n')"
   ]
  },
  {
   "cell_type": "code",
   "execution_count": null,
   "metadata": {},
   "outputs": [],
   "source": []
  },
  {
   "cell_type": "code",
   "execution_count": null,
   "metadata": {},
   "outputs": [],
   "source": []
  },
  {
   "cell_type": "code",
   "execution_count": null,
   "metadata": {},
   "outputs": [],
   "source": []
  }
 ],
 "metadata": {
  "kernelspec": {
   "display_name": "Python 3",
   "language": "python",
   "name": "python3"
  },
  "language_info": {
   "codemirror_mode": {
    "name": "ipython",
    "version": 3
   },
   "file_extension": ".py",
   "mimetype": "text/x-python",
   "name": "python",
   "nbconvert_exporter": "python",
   "pygments_lexer": "ipython3",
   "version": "3.7.3"
  }
 },
 "nbformat": 4,
 "nbformat_minor": 4
}
